{
 "cells": [
  {
   "cell_type": "markdown",
   "metadata": {},
   "source": [
    "# Overfitting\n",
    "\n",
    "- Là hiện tượng mô hình quá khớp với dữ liệu đào tạo dẫn đến việc dự đoán kém chính xác đối với dữ liệu chưa được học.\n",
    "- Cách khắc phục:\n",
    "    - Giảm độ phức tạp mô hình\n",
    "    - Thực hiện chính quy hóa như L1,L2 hoặc batchnormalization để giảm độ lớn W\n",
    "    - Thực hiện dropout\n",
    "    - Làm đa dạng thêm dữ liệu bằng cách sử dụng kĩ thuật như Data Augmentation\n",
    "    - Giảm bớt các tính năng của dữ liệu\n",
    "    - Có thể sử dụng kĩ thuật trong lúc đào tạo như early stop\n",
    "    \n",
    "# Underfitting\n",
    "\n",
    "- Là hiện tượng mô hình không thể học được mối quan hệ giữa các biến đầu vào và đầu ra một cách chính xác, tạo ra tỷ lệ lỗi cao trên cả dữ liệu đào tạo và dữ liệu chưa được đào tạo\n",
    "- Cách khắc phục:\n",
    "    - Tăng kích thước mô hình\n",
    "    - Thay đổi kiến trúc mô hình\n",
    "    - Tăng thời gian đào tạo mô hình (tăng số epoch)\n",
    "    - Điều chỉnh tốc độ học cho phù hợp"
   ]
  },
  {
   "cell_type": "code",
   "execution_count": null,
   "metadata": {},
   "outputs": [],
   "source": []
  }
 ],
 "metadata": {
  "kernelspec": {
   "display_name": "Python 3",
   "language": "python",
   "name": "python3"
  },
  "language_info": {
   "codemirror_mode": {
    "name": "ipython",
    "version": 3
   },
   "file_extension": ".py",
   "mimetype": "text/x-python",
   "name": "python",
   "nbconvert_exporter": "python",
   "pygments_lexer": "ipython3",
   "version": "3.6.8"
  }
 },
 "nbformat": 4,
 "nbformat_minor": 4
}
