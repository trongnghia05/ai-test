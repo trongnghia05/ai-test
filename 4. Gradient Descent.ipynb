{
 "cells": [
  {
   "cell_type": "markdown",
   "metadata": {},
   "source": [
    "- Gradient Descent là một kĩ thuật tìm điểm xấp xỉ cực trị của hàm mục tiêu L(w), thông thường là tìm giá trị cực tiểu thông qua việc thay đổi các giá trị w một lượng ngược chiều với đạo hàm của L(w) theo w.\n",
    "- Trong một tập dữ liệu đào tạo có rất nhiều điểm dữ liệu, Stochastic Gradient Descent là việc mỗi lần cập nhật giá trị mới cho w chỉ sử dụng một điểm dữ liệu duy nhất, khác với Batch Gradient Descent là mỗi lần cập nhật giá trị mới cho w thì sử dụng trung bình đạo hàm của toàn bộ điểm dữ liệu."
   ]
  },
  {
   "cell_type": "code",
   "execution_count": null,
   "metadata": {},
   "outputs": [],
   "source": []
  }
 ],
 "metadata": {
  "kernelspec": {
   "display_name": "Python 3",
   "language": "python",
   "name": "python3"
  },
  "language_info": {
   "codemirror_mode": {
    "name": "ipython",
    "version": 3
   },
   "file_extension": ".py",
   "mimetype": "text/x-python",
   "name": "python",
   "nbconvert_exporter": "python",
   "pygments_lexer": "ipython3",
   "version": "3.6.8"
  }
 },
 "nbformat": 4,
 "nbformat_minor": 4
}
