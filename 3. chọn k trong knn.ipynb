{
 "cells": [
  {
   "cell_type": "markdown",
   "metadata": {},
   "source": [
    "# Làm thế nào chọn K trong Knn ?\n",
    "\n",
    "1. Không có phương pháp nào để xác định k trước sao cho thuật toán tốt nhất\n",
    "    - Chọn K lớn thì chi phí tính toán sẽ lớn khi dự đoán\n",
    "    - Chọn K nhỏ thì độ chính xác lại có vẻ không đủ tin cậy\n",
    "2. Để chọn k một cách hợp lý hơn có thể sử dụng cách sau:\n",
    "    - K thường chọn là lẻ\n",
    "    - Giá trị k tối đa thường chọn sqrt(m) với m là số điểm dữ liệu\n",
    "    - Khởi tạo một tập hợp các k khác nhau trong một khoảng giá trị\n",
    "    - Vẽ biểu đồ lỗi đối với từng k và sau đó dựa vào biểu đồ để lựa chọn k phù hợp nhất."
   ]
  },
  {
   "cell_type": "code",
   "execution_count": null,
   "metadata": {},
   "outputs": [],
   "source": []
  }
 ],
 "metadata": {
  "kernelspec": {
   "display_name": "Python 3",
   "language": "python",
   "name": "python3"
  },
  "language_info": {
   "codemirror_mode": {
    "name": "ipython",
    "version": 3
   },
   "file_extension": ".py",
   "mimetype": "text/x-python",
   "name": "python",
   "nbconvert_exporter": "python",
   "pygments_lexer": "ipython3",
   "version": "3.6.8"
  }
 },
 "nbformat": 4,
 "nbformat_minor": 4
}
